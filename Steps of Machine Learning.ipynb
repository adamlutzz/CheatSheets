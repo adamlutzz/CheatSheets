{
  "nbformat": 4,
  "nbformat_minor": 0,
  "metadata": {
    "colab": {
      "name": "Untitled7.ipynb",
      "provenance": [],
      "include_colab_link": true
    },
    "kernelspec": {
      "name": "python3",
      "display_name": "Python 3"
    }
  },
  "cells": [
    {
      "cell_type": "markdown",
      "metadata": {
        "id": "view-in-github",
        "colab_type": "text"
      },
      "source": [
        "<a href=\"https://colab.research.google.com/github/adamlutzz/CheatSheets/blob/master/Steps%20of%20Machine%20Learning.ipynb\" target=\"_parent\"><img src=\"https://colab.research.google.com/assets/colab-badge.svg\" alt=\"Open In Colab\"/></a>"
      ]
    },
    {
      "cell_type": "markdown",
      "metadata": {
        "id": "_e_BJqC5Q3n9",
        "colab_type": "text"
      },
      "source": [
        "# Steps of Machine Learning"
      ]
    },
    {
      "cell_type": "markdown",
      "metadata": {
        "id": "UCHhrEM5Q8ue",
        "colab_type": "text"
      },
      "source": [
        "## Gather Data"
      ]
    },
    {
      "cell_type": "markdown",
      "metadata": {
        "id": "zcWLTp8iQ_hp",
        "colab_type": "text"
      },
      "source": [
        "## Prepare Data"
      ]
    },
    {
      "cell_type": "markdown",
      "metadata": {
        "id": "JaH-__cWRR3W",
        "colab_type": "text"
      },
      "source": [
        "### Eliminate or impute samples or features with missing values\n",
        "\n",
        "*  Review data in dataframe\n",
        "*  Use mean approach or other imputers from sklearn\n",
        "\n",
        "Video on Missingness: https://www.youtube.com/watch?v=2gkw2T5jAfo&feature=youtu.be\n"
      ]
    },
    {
      "cell_type": "code",
      "metadata": {
        "id": "B6zZM4JrTjsL",
        "colab_type": "code",
        "colab": {}
      },
      "source": [
        "# pandas profiling code"
      ],
      "execution_count": 0,
      "outputs": []
    },
    {
      "cell_type": "code",
      "metadata": {
        "id": "rMhNusWCTRTi",
        "colab_type": "code",
        "colab": {}
      },
      "source": [
        "# drop NAN code"
      ],
      "execution_count": 0,
      "outputs": []
    },
    {
      "cell_type": "code",
      "metadata": {
        "id": "9FOkoaWERhJ0",
        "colab_type": "code",
        "colab": {}
      },
      "source": [
        "# determine target and df.describe for mean"
      ],
      "execution_count": 0,
      "outputs": []
    },
    {
      "cell_type": "code",
      "metadata": {
        "id": "W_dngc71RuGd",
        "colab_type": "code",
        "colab": {}
      },
      "source": [
        "from sklearn.impute import SimpleImputer"
      ],
      "execution_count": 0,
      "outputs": []
    },
    {
      "cell_type": "markdown",
      "metadata": {
        "id": "VLaFUe84R5W1",
        "colab_type": "text"
      },
      "source": [
        "### Review Outliers\n",
        "\n",
        "\n",
        "*   Do the outliers make sense? Could they be Null values input as zero?\n",
        "\n",
        "*   You don’t have to remove outliers, but you should if you feel they will impact your model.\n",
        "\n",
        "*   A safe approach is using **95% interquartile data** (generally only used on **normally distributed** data).\n",
        "\n",
        "*   Only edit/remove outliers if it makes sense! If your data is skewed one way or the other, you may end up dropping a large amount of variance in your data. The goal is to maintain the integrity of the data you are trying to capture. Ask yourself, do these outliers fall within the scope of the question I am trying to answer?\n",
        "\n"
      ]
    },
    {
      "cell_type": "code",
      "metadata": {
        "id": "Dse_7OZUSaQ4",
        "colab_type": "code",
        "colab": {}
      },
      "source": [
        "#How do you know if outliers make sense? Visualize your features!\n",
        "\n",
        "# this cell for code to visualize features"
      ],
      "execution_count": 0,
      "outputs": []
    },
    {
      "cell_type": "code",
      "metadata": {
        "id": "2PC1-2JjSiC2",
        "colab_type": "code",
        "colab": {}
      },
      "source": [
        "# this cell is code for using 95% interquartiles"
      ],
      "execution_count": 0,
      "outputs": []
    },
    {
      "cell_type": "markdown",
      "metadata": {
        "id": "yEW_VOSWSwEz",
        "colab_type": "text"
      },
      "source": [
        "### Handling Categorical Data\n",
        "*   Mapping ordinal features **Ordinal** or **Nominal**\n",
        "*   Encoding nominal class lables ex. **OneHotEncoding** among others"
      ]
    },
    {
      "cell_type": "code",
      "metadata": {
        "id": "JS5Y3PhQTALE",
        "colab_type": "code",
        "colab": {}
      },
      "source": [
        "# Code for onehot encoding\n",
        "# Code for other types of encoders"
      ],
      "execution_count": 0,
      "outputs": []
    },
    {
      "cell_type": "markdown",
      "metadata": {
        "id": "pI1_4Xn3Tofq",
        "colab_type": "text"
      },
      "source": [
        "### Feature Scaling\n",
        "\n",
        "\n",
        "*   **Standardization**\n",
        "*   **Normalization**\n",
        "\n"
      ]
    },
    {
      "cell_type": "code",
      "metadata": {
        "id": "2vvjtI8qT1E_",
        "colab_type": "code",
        "colab": {}
      },
      "source": [
        "# definition of Standardization and when to use it\n",
        "# code for standardization"
      ],
      "execution_count": 0,
      "outputs": []
    },
    {
      "cell_type": "code",
      "metadata": {
        "id": "54FdjZwrT9EC",
        "colab_type": "code",
        "colab": {}
      },
      "source": [
        "# definition of Normalization and when to use it\n",
        "# code for Normalization"
      ],
      "execution_count": 0,
      "outputs": []
    },
    {
      "cell_type": "markdown",
      "metadata": {
        "id": "bmCDucweUBBm",
        "colab_type": "text"
      },
      "source": [
        "### Select Meaningful Features\n",
        "\n",
        "*\t Overfitting often is a result of redundancy in data.\n",
        "*\t Reduce or add dimensionality in the data to maximize variance ex. **PCA**, **SelectKBest**\n",
        "\n"
      ]
    },
    {
      "cell_type": "code",
      "metadata": {
        "id": "j0Mz8orsUnH-",
        "colab_type": "code",
        "colab": {}
      },
      "source": [
        "\"\"\"When is it appropriate to run PCA? Are there times increasing Dimensionality is helpful? \n",
        "It happens with onehotencoding\n",
        "Is it considered best practice to increase dimensionality first then run PCA to reduce while maximizing variance?\"\"\"\n",
        "\n",
        "# Code for PCA\n",
        "\n",
        "# Code for SelectKBest"
      ],
      "execution_count": 0,
      "outputs": []
    },
    {
      "cell_type": "markdown",
      "metadata": {
        "id": "xVuET38mVHir",
        "colab_type": "text"
      },
      "source": [
        "### Feature Engineering\n",
        "\n",
        "After talking with Michael this may be further down in the process. I added this step in myself because I did not see it on the list I was looking at.\n",
        "\n",
        "*   Can you explore the relationship between two features to create additional information or variance in your data?\n",
        "\n",
        "\n",
        "> *Is it better to engineer features before selecting meaningful features? It would make sense to try and maximize dimensionality first with the goal being to engineer the greatest amount of variance in your data before reducing dimensionality. This would prevent redundant data in the engineered features.*\n",
        "\n",
        "\n"
      ]
    },
    {
      "cell_type": "code",
      "metadata": {
        "id": "xwaOPy09V6fs",
        "colab_type": "code",
        "colab": {}
      },
      "source": [
        "# Examples for feature engineering"
      ],
      "execution_count": 0,
      "outputs": []
    },
    {
      "cell_type": "markdown",
      "metadata": {
        "id": "H1PkgUKQWA7r",
        "colab_type": "text"
      },
      "source": [
        "### Split Data into Train/Validation/Test Subsets\n",
        "\n",
        "\n",
        "> *Decide if it is better to do this before or after wrangling your data, possibly first step of preparing your data?*"
      ]
    },
    {
      "cell_type": "code",
      "metadata": {
        "id": "p6pY4zNCWSlK",
        "colab_type": "code",
        "colab": {}
      },
      "source": [
        "from sklearn.model_selection import train_test_split\n",
        "\n",
        "# generalized train_test_split code"
      ],
      "execution_count": 0,
      "outputs": []
    },
    {
      "cell_type": "markdown",
      "metadata": {
        "id": "ir57OR0qRB-l",
        "colab_type": "text"
      },
      "source": [
        "## Choose A Model"
      ]
    },
    {
      "cell_type": "markdown",
      "metadata": {
        "id": "dnXF-JZdRF5M",
        "colab_type": "text"
      },
      "source": [
        "## Train Model"
      ]
    },
    {
      "cell_type": "markdown",
      "metadata": {
        "id": "-T_AT1RnRJFS",
        "colab_type": "text"
      },
      "source": [
        "## Evaluate Model"
      ]
    },
    {
      "cell_type": "markdown",
      "metadata": {
        "id": "tLky7eShRK68",
        "colab_type": "text"
      },
      "source": [
        "## Hyperparameter Tuning"
      ]
    },
    {
      "cell_type": "markdown",
      "metadata": {
        "id": "sxDCoV88RPG6",
        "colab_type": "text"
      },
      "source": [
        "## Prediction"
      ]
    },
    {
      "cell_type": "markdown",
      "metadata": {
        "id": "5rj7phyWYjtr",
        "colab_type": "text"
      },
      "source": [
        "## Helpful Links\n",
        "\n",
        "Lecture on Missingness: https://www.youtube.com/watch?v=2gkw2T5jAfo&feature=youtu.be\n",
        "\n",
        "What is Data? https://youtu.be/SEeQgNdJ6AQ?t=83\n",
        "\n",
        "Machine Learning Debugger Library: https://eli5.readthedocs.io/en/latest/overview.html"
      ]
    }
  ]
}