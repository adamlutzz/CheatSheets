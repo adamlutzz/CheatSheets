{
  "nbformat": 4,
  "nbformat_minor": 0,
  "metadata": {
    "colab": {
      "name": "preprocess.ipynb",
      "provenance": [],
      "collapsed_sections": [],
      "include_colab_link": true
    },
    "kernelspec": {
      "name": "python3",
      "display_name": "Python 3"
    }
  },
  "cells": [
    {
      "cell_type": "markdown",
      "metadata": {
        "id": "view-in-github",
        "colab_type": "text"
      },
      "source": [
        "<a href=\"https://colab.research.google.com/github/adamlutzz/CheatSheets/blob/master/preprocessing.ipynb\" target=\"_parent\"><img src=\"https://colab.research.google.com/assets/colab-badge.svg\" alt=\"Open In Colab\"/></a>"
      ]
    },
    {
      "cell_type": "markdown",
      "metadata": {
        "id": "GxGDCIbkANkW",
        "colab_type": "text"
      },
      "source": [
        "# Notebook that shows quick and easy preprocessing for baseline model"
      ]
    },
    {
      "cell_type": "markdown",
      "metadata": {
        "id": "WIB7WWcWBcpq",
        "colab_type": "text"
      },
      "source": [
        "## Imports"
      ]
    },
    {
      "cell_type": "code",
      "metadata": {
        "id": "kOO-B4AM3zLh",
        "colab_type": "code",
        "colab": {}
      },
      "source": [
        "import numpy as np\n",
        "import pandas as pd\n",
        "from sklearn.pipeline import Pipeline\n",
        "from sklearn.impute import SimpleImputer\n",
        "from sklearn.preprocessing import OneHotEncoder, OrdinalEncoder"
      ],
      "execution_count": 0,
      "outputs": []
    },
    {
      "cell_type": "markdown",
      "metadata": {
        "id": "_PqcZ_8mASnz",
        "colab_type": "text"
      },
      "source": [
        "## Data"
      ]
    },
    {
      "cell_type": "code",
      "metadata": {
        "id": "xoU3pKGPAMLV",
        "colab_type": "code",
        "colab": {}
      },
      "source": [
        "columns = [\"name\", \"age\"]\n",
        "data = [[\"Alvin\", 23], [np.nan, 21], [\"Riken\", np.nan]]\n",
        "df = pd.DataFrame(columns= columns, data = data)"
      ],
      "execution_count": 0,
      "outputs": []
    },
    {
      "cell_type": "markdown",
      "metadata": {
        "id": "0io6HCAcEEjb",
        "colab_type": "text"
      },
      "source": [
        "# *** Note that prior to this step, you remove the target column ***"
      ]
    },
    {
      "cell_type": "markdown",
      "metadata": {
        "id": "PtQIG1_9AVFS",
        "colab_type": "text"
      },
      "source": [
        "## Split numeric and categorical"
      ]
    },
    {
      "cell_type": "code",
      "metadata": {
        "id": "ncmoQCPP5GaM",
        "colab_type": "code",
        "colab": {}
      },
      "source": [
        "numeric = df.select_dtypes(include= \"number\").columns\n",
        "categorical = df.select_dtypes(exclude = \"number\").columns"
      ],
      "execution_count": 0,
      "outputs": []
    },
    {
      "cell_type": "code",
      "metadata": {
        "id": "K_EswWwgfE4l",
        "colab_type": "code",
        "outputId": "76a303a7-c0fa-410d-ec9e-00d570c46667",
        "colab": {
          "base_uri": "https://localhost:8080/",
          "height": 34
        }
      },
      "source": [
        "numeric"
      ],
      "execution_count": 0,
      "outputs": [
        {
          "output_type": "execute_result",
          "data": {
            "text/plain": [
              "Index([], dtype='object')"
            ]
          },
          "metadata": {
            "tags": []
          },
          "execution_count": 15
        }
      ]
    },
    {
      "cell_type": "markdown",
      "metadata": {
        "id": "7VTt0qnjAY-M",
        "colab_type": "text"
      },
      "source": [
        "## Create Categorical and Numeric preprocessing pipelines"
      ]
    },
    {
      "cell_type": "code",
      "metadata": {
        "id": "BZGfOkqE75do",
        "colab_type": "code",
        "colab": {}
      },
      "source": [
        "c_steps = [('c_imputer', SimpleImputer(strategy=\"most_frequent\"))]\n",
        "c_pipeline = Pipeline(c_steps)\n",
        "\n",
        "n_steps = [('n_imputer', SimpleImputer())]\n",
        "n_pipeline = Pipeline(n_steps)"
      ],
      "execution_count": 0,
      "outputs": []
    },
    {
      "cell_type": "markdown",
      "metadata": {
        "id": "mFb__9alAgD5",
        "colab_type": "text"
      },
      "source": [
        "## Fit pipelines to corresponsing datatypes"
      ]
    },
    {
      "cell_type": "code",
      "metadata": {
        "id": "p9IGCbm06rWW",
        "colab_type": "code",
        "colab": {}
      },
      "source": [
        "df[numeric] = n_pipeline.fit_transform(df[numeric])\n",
        "df[categorical] = c_pipeline.fit_transform(df[categorical])"
      ],
      "execution_count": 0,
      "outputs": []
    },
    {
      "cell_type": "markdown",
      "metadata": {
        "id": "PCMJ3IpwA3hO",
        "colab_type": "text"
      },
      "source": [
        "# Use first function if One hot encoder is not a step in your categorical preprocessing"
      ]
    },
    {
      "cell_type": "markdown",
      "metadata": {
        "id": "Dk01Buj3lO0I",
        "colab_type": "text"
      },
      "source": [
        "## 0 for only numeric feautres, 1 for categorical, 2 for both"
      ]
    },
    {
      "cell_type": "code",
      "metadata": {
        "id": "_fy_cgAc_h6P",
        "colab_type": "code",
        "colab": {}
      },
      "source": [
        "def simple_preprocess(df, switch):\n",
        "  \n",
        "  if switch == 0:\n",
        "    n_steps = [('n_imputer', SimpleImputer())]\n",
        "    n_pipeline = Pipeline(n_steps)\n",
        "    df = n_pipeline.fit_transform(df.values)\n",
        "  \n",
        "  elif switch == 1:\n",
        "    c_steps = [('c_imputer', SimpleImputer(strategy=\"most_frequent\")),\n",
        "            ('ordinal', OrdinalEncoder())]\n",
        "    c_pipeline = Pipeline(c_steps)\n",
        "    df = c_pipeline.fit_transform(df.values)\n",
        "  \n",
        "  elif switch == 2:\n",
        "    c_steps = [('c_imputer', SimpleImputer(strategy=\"most_frequent\")),\n",
        "            ('ordinal', OrdinalEncoder())]\n",
        "    c_pipeline = Pipeline(c_steps)\n",
        "    n_steps = [('n_imputer', SimpleImputer())]\n",
        "    n_pipeline = Pipeline(n_steps)\n",
        "    numeric = df.select_dtypes(include= \"number\").columns\n",
        "    categorical = df.select_dtypes(exclude = \"number\").columns\n",
        "    df[numeric] = n_pipeline.fit_transform(df[numeric])\n",
        "    df[categorical] = c_pipeline.fit_transform(df[categorical])\n",
        "  \n",
        "  else:\n",
        "    print(\"Invalid Switch\")\n",
        "  \n",
        "  return df"
      ],
      "execution_count": 0,
      "outputs": []
    },
    {
      "cell_type": "markdown",
      "metadata": {
        "id": "B8IpAytIip15",
        "colab_type": "text"
      },
      "source": [
        "## 0 for only numeric feautres, 1 for categorical, 2 for both\n"
      ]
    },
    {
      "cell_type": "code",
      "metadata": {
        "id": "fqeNirRGK0K_",
        "colab_type": "code",
        "colab": {}
      },
      "source": [
        "def simple_preprocess(df, switch):\n",
        "  \n",
        "  if switch == 0:\n",
        "    n_steps = [('n_imputer', SimpleImputer())]\n",
        "    n_pipeline = Pipeline(n_steps)\n",
        "    df = n_pipeline.fit(df.values)\n",
        "  \n",
        "  elif switch == 1:\n",
        "    c_steps = [('c_imputer', SimpleImputer(strategy=\"most_frequent\")),\n",
        "            ('onehot', OneHotEncoder())]\n",
        "    c_pipeline = Pipeline(c_steps)\n",
        "    categorical_data = c_pipeline.fit_transform(df.values).toarray()\n",
        "    df = pd.DataFrame(columns= c_pipeline['onehot'].get_feature_names(), data=categorical_data)\n",
        "  \n",
        "  elif switch == 2:\n",
        "    numeric = df.select_dtypes(include= \"number\")\n",
        "    categorical = df.select_dtypes(exclude = \"number\")\n",
        "    c_steps = [('c_imputer', SimpleImputer(strategy=\"most_frequent\")),\n",
        "            ('onehot', OneHotEncoder())]\n",
        "    c_pipeline = Pipeline(c_steps)\n",
        "    n_steps = [('n_imputer', SimpleImputer())]\n",
        "    n_pipeline = Pipeline(n_steps)\n",
        "    numeric_data = n_pipeline.fit_transform(numeric)\n",
        "    categorical_data = c_pipeline.fit_transform(categorical).toarray()\n",
        "    numeric = pd.DataFrame(columns= numeric.columns, data=numeric_data)\n",
        "    categorical = pd.DataFrame(columns= c_pipeline['onehot'].get_feature_names(), data=categorical_data)\n",
        "    df = pd.concat([numeric, categorical], axis = 1)\n",
        "  \n",
        "  else:\n",
        "    print(\"Invalid Switch\")\n",
        "  \n",
        "  return df"
      ],
      "execution_count": 0,
      "outputs": []
    },
    {
      "cell_type": "code",
      "metadata": {
        "id": "2NVoPEZvPRu6",
        "colab_type": "code",
        "outputId": "ec86f1c0-f672-4ec0-e46d-119271d929f3",
        "colab": {
          "base_uri": "https://localhost:8080/",
          "height": 136
        }
      },
      "source": [
        "simple_preprocess(df, 2)"
      ],
      "execution_count": 0,
      "outputs": [
        {
          "output_type": "execute_result",
          "data": {
            "text/html": [
              "<div>\n",
              "<style scoped>\n",
              "    .dataframe tbody tr th:only-of-type {\n",
              "        vertical-align: middle;\n",
              "    }\n",
              "\n",
              "    .dataframe tbody tr th {\n",
              "        vertical-align: top;\n",
              "    }\n",
              "\n",
              "    .dataframe thead th {\n",
              "        text-align: right;\n",
              "    }\n",
              "</style>\n",
              "<table border=\"1\" class=\"dataframe\">\n",
              "  <thead>\n",
              "    <tr style=\"text-align: right;\">\n",
              "      <th></th>\n",
              "      <th>age</th>\n",
              "      <th>x0_Alvin</th>\n",
              "      <th>x0_Riken</th>\n",
              "    </tr>\n",
              "  </thead>\n",
              "  <tbody>\n",
              "    <tr>\n",
              "      <th>0</th>\n",
              "      <td>23.0</td>\n",
              "      <td>1.0</td>\n",
              "      <td>0.0</td>\n",
              "    </tr>\n",
              "    <tr>\n",
              "      <th>1</th>\n",
              "      <td>21.0</td>\n",
              "      <td>1.0</td>\n",
              "      <td>0.0</td>\n",
              "    </tr>\n",
              "    <tr>\n",
              "      <th>2</th>\n",
              "      <td>22.0</td>\n",
              "      <td>0.0</td>\n",
              "      <td>1.0</td>\n",
              "    </tr>\n",
              "  </tbody>\n",
              "</table>\n",
              "</div>"
            ],
            "text/plain": [
              "    age  x0_Alvin  x0_Riken\n",
              "0  23.0       1.0       0.0\n",
              "1  21.0       1.0       0.0\n",
              "2  22.0       0.0       1.0"
            ]
          },
          "metadata": {
            "tags": []
          },
          "execution_count": 43
        }
      ]
    }
  ]
}